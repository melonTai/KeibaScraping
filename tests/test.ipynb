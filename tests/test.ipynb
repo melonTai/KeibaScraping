{
 "cells": [
  {
   "cell_type": "code",
   "execution_count": 2,
   "metadata": {},
   "outputs": [],
   "source": [
    "import pandas as pd"
   ]
  },
  {
   "cell_type": "code",
   "execution_count": 8,
   "metadata": {},
   "outputs": [],
   "source": [
    "path = r'D:\\Keiba\\data\\raw\\jockey\\jockey_list.pkl'\n",
    "df_jockey_list = pd.read_pickle(path)"
   ]
  },
  {
   "cell_type": "code",
   "execution_count": 9,
   "metadata": {},
   "outputs": [
    {
     "data": {
      "text/plain": [
       "0     01088\n",
       "1     01170\n",
       "2     05386\n",
       "3     01174\n",
       "4     01126\n",
       "      ...  \n",
       "99    00663\n",
       "0     a00ea\n",
       "1     00605\n",
       "2     00515\n",
       "3     a015a\n",
       "Name: jockey_id, Length: 2404, dtype: object"
      ]
     },
     "execution_count": 9,
     "metadata": {},
     "output_type": "execute_result"
    }
   ],
   "source": [
    "df_jockey_list['jockey_id']"
   ]
  },
  {
   "cell_type": "code",
   "execution_count": 11,
   "metadata": {},
   "outputs": [
    {
     "data": {
      "text/plain": [
       "騎手名        騎手名              Ｇ．ムーア\n",
       "所属         所属                  海外\n",
       "生年月日       生年月日        1952/08/03\n",
       "1着         1着                 NaN\n",
       "2着         2着                 NaN\n",
       "3着         3着                 NaN\n",
       "着外         着外                 NaN\n",
       "重賞         出走                 NaN\n",
       "           勝利                 NaN\n",
       "特別         出走                 NaN\n",
       "           勝利                 NaN\n",
       "平場         出走                 NaN\n",
       "           勝利                 NaN\n",
       "芝          出走                 NaN\n",
       "           勝利                 NaN\n",
       "ダート        出走                 NaN\n",
       "           勝利                 NaN\n",
       "勝率         勝率                 NaN\n",
       "連対率        連対率                NaN\n",
       "複勝率        複勝率                NaN\n",
       "収得賞金(万円)   収得賞金(万円)           NaN\n",
       "代表馬        代表馬                NaN\n",
       "jockey_id                   00968\n",
       "Name: 78, dtype: object"
      ]
     },
     "execution_count": 11,
     "metadata": {},
     "output_type": "execute_result"
    }
   ],
   "source": [
    "df_jockey_list.iloc[478]"
   ]
  },
  {
   "cell_type": "code",
   "execution_count": 5,
   "metadata": {},
   "outputs": [
    {
     "data": {
      "text/plain": [
       "[   人気  選択  組み合わせ    オッズ 1頭目     2頭目     3頭目    \n",
       "    人気  選択  組み合わせ    オッズ  馬番  馬名  馬番  馬名  馬番  馬名\n",
       " 0   - NaN  - - -  ---.-   - NaN   - NaN   - NaN\n",
       " 1   - NaN  - - -  ---.-   - NaN   - NaN   - NaN\n",
       " 2   - NaN  - - -  ---.-   - NaN   - NaN   - NaN\n",
       " 3   - NaN  - - -  ---.-   - NaN   - NaN   - NaN\n",
       " 4   - NaN  - - -  ---.-   - NaN   - NaN   - NaN\n",
       " .. ..  ..    ...    ...  ..  ..  ..  ..  ..  ..\n",
       " 95  - NaN  - - -  ---.-   - NaN   - NaN   - NaN\n",
       " 96  - NaN  - - -  ---.-   - NaN   - NaN   - NaN\n",
       " 97  - NaN  - - -  ---.-   - NaN   - NaN   - NaN\n",
       " 98  - NaN  - - -  ---.-   - NaN   - NaN   - NaN\n",
       " 99  - NaN  - - -  ---.-   - NaN   - NaN   - NaN\n",
       " \n",
       " [100 rows x 10 columns]]"
      ]
     },
     "execution_count": 5,
     "metadata": {},
     "output_type": "execute_result"
    }
   ],
   "source": [
    "url = \"https://race.netkeiba.com/odds/index.html?type=b7&race_id=202201020411&housiki=c99&ninki=10\"\n",
    "pd.read_html(url)"
   ]
  },
  {
   "cell_type": "code",
   "execution_count": null,
   "metadata": {},
   "outputs": [],
   "source": []
  }
 ],
 "metadata": {
  "kernelspec": {
   "display_name": "Python 3.9.7 64-bit",
   "language": "python",
   "name": "python3"
  },
  "language_info": {
   "codemirror_mode": {
    "name": "ipython",
    "version": 3
   },
   "file_extension": ".py",
   "mimetype": "text/x-python",
   "name": "python",
   "nbconvert_exporter": "python",
   "pygments_lexer": "ipython3",
   "version": "3.9.7"
  },
  "orig_nbformat": 4,
  "vscode": {
   "interpreter": {
    "hash": "a2b8c293ade6ae25fbac88c8d9eca4da7d49f83eddaa1228656d4a6dc91a8deb"
   }
  }
 },
 "nbformat": 4,
 "nbformat_minor": 2
}
